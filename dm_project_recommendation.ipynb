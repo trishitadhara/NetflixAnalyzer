{
  "nbformat": 4,
  "nbformat_minor": 0,
  "metadata": {
    "colab": {
      "provenance": []
    },
    "kernelspec": {
      "name": "python3",
      "display_name": "Python 3"
    },
    "language_info": {
      "name": "python"
    }
  },
  "cells": [
    {
      "cell_type": "code",
      "execution_count": null,
      "metadata": {
        "colab": {
          "base_uri": "https://localhost:8080/"
        },
        "id": "oa8QbLAlK24d",
        "outputId": "1ff66686-02de-4e0f-fea8-2589b6181068"
      },
      "outputs": [
        {
          "output_type": "stream",
          "name": "stdout",
          "text": [
            "Archive:  /content/netflix_titles.csv.zip\n",
            "  inflating: netflix_titles.csv      \n"
          ]
        }
      ],
      "source": [
        "!unzip /content/netflix_titles.csv.zip"
      ]
    },
    {
      "cell_type": "code",
      "source": [
        "import pandas as pd\n",
        "from sklearn.feature_extraction.text import TfidfVectorizer\n",
        "from sklearn.metrics.pairwise import cosine_similarity\n",
        "from sklearn.neighbors import NearestNeighbors\n",
        "import matplotlib.pyplot as plt\n",
        "import seaborn as sns\n",
        "from wordcloud import WordCloud\n",
        "from sklearn.decomposition import PCA\n",
        "from sklearn.preprocessing import StandardScaler\n",
        "from sklearn.cluster import KMeans\n"
      ],
      "metadata": {
        "id": "O9UQqXL9LZ6j"
      },
      "execution_count": null,
      "outputs": []
    },
    {
      "cell_type": "code",
      "source": [
        "import pandas as pd\n",
        "from sklearn.feature_extraction.text import TfidfVectorizer\n",
        "from sklearn.preprocessing import MultiLabelBinarizer\n",
        "from sklearn.feature_extraction.text import ENGLISH_STOP_WORDS\n",
        "from nltk.stem import PorterStemmer\n",
        "import re"
      ],
      "metadata": {
        "id": "R5PP2kmEQFUy"
      },
      "execution_count": null,
      "outputs": []
    },
    {
      "cell_type": "code",
      "source": [
        "df = pd.read_csv(\"/content/netflix_titles.csv\")  # Replace with your actual dataset file path"
      ],
      "metadata": {
        "id": "7l8hJ2kgQqsw"
      },
      "execution_count": null,
      "outputs": []
    },
    {
      "cell_type": "code",
      "source": [
        "df = pd.read_csv(\"/content/netflix_titles.csv\")  # Replace with your actual dataset file path\n",
        "\n",
        "# Data Cleaning\n",
        "# Remove duplicates\n",
        "df.drop_duplicates(inplace=True)\n",
        "\n",
        "# Handle missing values\n",
        "df.dropna(subset=['title', 'description', 'listed_in'], inplace=True)\n",
        "\n",
        "# Text Preprocessing\n",
        "def preprocess_text(text):\n",
        "    # Convert to lowercase\n",
        "    text = text.lower()\n",
        "    # Remove special characters, numbers, and extra spaces\n",
        "    text = re.sub(r'[^a-z\\s]', '', text)\n",
        "    # Tokenization (you can use more advanced methods depending on your needs)\n",
        "    tokens = text.split()\n",
        "    # Remove stop words\n",
        "    tokens = [token for token in tokens if token not in ENGLISH_STOP_WORDS]\n",
        "    # Stemming (you can also use lemmatization)\n",
        "    stemmer = PorterStemmer()\n",
        "    tokens = [stemmer.stem(token) for token in tokens]\n",
        "    # Join tokens back into a string\n",
        "    text = ' '.join(tokens)\n",
        "    return text\n",
        "\n",
        "# Apply text preprocessing to relevant columns\n",
        "df['processed_description'] = df['description'].apply(preprocess_text)\n",
        "\n",
        "# Feature Engineering\n",
        "# Genre one-hot encoding\n",
        "mlb = MultiLabelBinarizer()\n",
        "df['listed_in'] = df['listed_in'].apply(lambda x: x.split(', '))\n",
        "genre_encoded = pd.DataFrame(mlb.fit_transform(df['listed_in']), columns=mlb.classes_)\n",
        "df = pd.concat([df, genre_encoded], axis=1)\n",
        "\n",
        "# TF-IDF vectors\n",
        "tfidf_vectorizer = TfidfVectorizer(stop_words='english')\n",
        "tfidf_matrix = tfidf_vectorizer.fit_transform(df['processed_description'])\n",
        "\n",
        "# Convert TF-IDF matrix to DataFrame\n",
        "tfidf_df = pd.DataFrame(tfidf_matrix.toarray(), columns=tfidf_vectorizer.get_feature_names_out())\n",
        "df = pd.concat([df, tfidf_df], axis=1)\n",
        "\n",
        "# Drop unnecessary columns\n",
        "df.drop(['description', 'listed_in', 'processed_description'], axis=1, inplace=True)\n",
        "\n",
        "# Display the first few rows of the processed DataFrame\n",
        "print(df.head())"
      ],
      "metadata": {
        "colab": {
          "base_uri": "https://localhost:8080/"
        },
        "id": "qhicHXOmMdS2",
        "outputId": "6aad8e8d-3a9b-4e43-9ab9-c72bae416273"
      },
      "execution_count": null,
      "outputs": [
        {
          "output_type": "stream",
          "name": "stdout",
          "text": [
            "  show_id     type                  title         director  \\\n",
            "0      s1    Movie   Dick Johnson Is Dead  Kirsten Johnson   \n",
            "1      s2  TV Show          Blood & Water              NaN   \n",
            "2      s3  TV Show              Ganglands  Julien Leclercq   \n",
            "3      s4  TV Show  Jailbirds New Orleans              NaN   \n",
            "4      s5  TV Show           Kota Factory              NaN   \n",
            "\n",
            "                                                cast        country  \\\n",
            "0                                                NaN  United States   \n",
            "1  Ama Qamata, Khosi Ngema, Gail Mabalane, Thaban...   South Africa   \n",
            "2  Sami Bouajila, Tracy Gotoas, Samuel Jouy, Nabi...            NaN   \n",
            "3                                                NaN            NaN   \n",
            "4  Mayur More, Jitendra Kumar, Ranjan Raj, Alam K...          India   \n",
            "\n",
            "           date_added  release_year rating   duration  ...  zoom  zordon  \\\n",
            "0  September 25, 2021          2020  PG-13     90 min  ...   0.0     0.0   \n",
            "1  September 24, 2021          2021  TV-MA  2 Seasons  ...   0.0     0.0   \n",
            "2  September 24, 2021          2021  TV-MA   1 Season  ...   0.0     0.0   \n",
            "3  September 24, 2021          2021  TV-MA   1 Season  ...   0.0     0.0   \n",
            "4  September 24, 2021          2021  TV-MA  2 Seasons  ...   0.0     0.0   \n",
            "\n",
            "   zorro  zoya  zozo  zuckerberg  zuhu  zulu  zumbo  zurich  \n",
            "0    0.0   0.0   0.0         0.0   0.0   0.0    0.0     0.0  \n",
            "1    0.0   0.0   0.0         0.0   0.0   0.0    0.0     0.0  \n",
            "2    0.0   0.0   0.0         0.0   0.0   0.0    0.0     0.0  \n",
            "3    0.0   0.0   0.0         0.0   0.0   0.0    0.0     0.0  \n",
            "4    0.0   0.0   0.0         0.0   0.0   0.0    0.0     0.0  \n",
            "\n",
            "[5 rows x 14664 columns]\n"
          ]
        }
      ]
    },
    {
      "cell_type": "code",
      "source": [
        "# TF-IDF Vectorization\n",
        "tfidf_vectorizer = TfidfVectorizer(stop_words='english')\n",
        "tfidf_matrix = tfidf_vectorizer.fit_transform(df['description'])\n",
        "\n",
        "# Calculate Cosine Similarity\n",
        "cosine_sim = cosine_similarity(tfidf_matrix, tfidf_matrix)\n",
        "\n",
        "# Build the Recommendation Function\n",
        "def recommend_movies(title, cosine_sim=cosine_sim, df=df, top_n=5):\n",
        "    # Find the index of the movie in the dataset\n",
        "    idx = df[df['title'] == title].index[0]\n",
        "\n",
        "    # Get the pairwsie similarity scores of all movies with that movie\n",
        "    sim_scores = list(enumerate(cosine_sim[idx]))\n",
        "\n",
        "    # Sort the movies based on the similarity scores\n",
        "    sim_scores = sorted(sim_scores, key=lambda x: x[1], reverse=True)\n",
        "\n",
        "    # Get the scores of the top-n most similar movies\n",
        "    sim_scores = sim_scores[1:top_n+1]\n",
        "\n",
        "    # Get the movie indices\n",
        "    movie_indices = [i[0] for i in sim_scores]\n",
        "\n",
        "    # Return the top-n most similar movies\n",
        "    return df['title'].iloc[movie_indices]\n"
      ],
      "metadata": {
        "id": "IsnERx1EQJgj"
      },
      "execution_count": null,
      "outputs": []
    },
    {
      "cell_type": "code",
      "source": [
        "recommend_movies('Blood & Water')"
      ],
      "metadata": {
        "colab": {
          "base_uri": "https://localhost:8080/"
        },
        "id": "Ve54dS8fQbvr",
        "outputId": "0e503063-7bc4-40d0-ddfa-1ea69eeb50cb"
      },
      "execution_count": null,
      "outputs": [
        {
          "output_type": "execute_result",
          "data": {
            "text/plain": [
              "5344    Message from the King\n",
              "1884      Walk Away from Love\n",
              "4285                    Lilli\n",
              "4271               Lion Pride\n",
              "4209               Next Enti?\n",
              "Name: title, dtype: object"
            ]
          },
          "metadata": {},
          "execution_count": 8
        }
      ]
    },
    {
      "cell_type": "code",
      "source": [
        "from sklearn.neighbors import NearestNeighbors\n",
        "\n",
        "# TF-IDF Vectorization\n",
        "tfidf_vectorizer = TfidfVectorizer(stop_words='english')\n",
        "tfidf_matrix = tfidf_vectorizer.fit_transform(df['description'])\n",
        "\n",
        "# Fit a Nearest Neighbors model\n",
        "nn_model = NearestNeighbors(metric='cosine', algorithm='brute')\n",
        "nn_model.fit(tfidf_matrix)\n",
        "\n",
        "# Build the Recommendation Function using KNN\n",
        "def recommend_movies_knn(title, nn_model=nn_model, df=df, top_n=5):\n",
        "    # Find the index of the movie in the dataset\n",
        "    idx = df[df['title'] == title].index[0]\n",
        "\n",
        "    # Get the TF-IDF vector for the user-provided movie\n",
        "    movie_tfidf = tfidf_matrix[idx]\n",
        "\n",
        "    # Find the top-n most similar movies using KNN\n",
        "    _, movie_indices = nn_model.kneighbors(movie_tfidf, n_neighbors=top_n+1)\n",
        "\n",
        "    # Exclude the input movie itself from recommendations\n",
        "    movie_indices = movie_indices.squeeze()[1:]\n",
        "\n",
        "    # Return the top-n most similar movies\n",
        "    return df['title'].iloc[movie_indices]\n"
      ],
      "metadata": {
        "id": "SDu3P77yRHrl"
      },
      "execution_count": null,
      "outputs": []
    },
    {
      "cell_type": "code",
      "source": [
        "recommend_movies('Blood & Water')"
      ],
      "metadata": {
        "colab": {
          "base_uri": "https://localhost:8080/"
        },
        "id": "Tu-aDlIOSCML",
        "outputId": "81dc74ce-05d8-4ea2-ae5a-7f68669e69e0"
      },
      "execution_count": null,
      "outputs": [
        {
          "output_type": "execute_result",
          "data": {
            "text/plain": [
              "5344    Message from the King\n",
              "1884      Walk Away from Love\n",
              "4285                    Lilli\n",
              "4271               Lion Pride\n",
              "4209               Next Enti?\n",
              "Name: title, dtype: object"
            ]
          },
          "metadata": {},
          "execution_count": 10
        }
      ]
    },
    {
      "cell_type": "code",
      "source": [
        "recommend_movies('Lion Pride')"
      ],
      "metadata": {
        "colab": {
          "base_uri": "https://localhost:8080/"
        },
        "id": "S0oBFRxDS0Xv",
        "outputId": "881056cb-50ad-45e0-bfad-2efaeb32a95c"
      },
      "execution_count": null,
      "outputs": [
        {
          "output_type": "execute_result",
          "data": {
            "text/plain": [
              "1884    Walk Away from Love\n",
              "1941             Ishq Vishk\n",
              "2323         The Mirror Boy\n",
              "3843         Away From Home\n",
              "1             Blood & Water\n",
              "Name: title, dtype: object"
            ]
          },
          "metadata": {},
          "execution_count": 12
        }
      ]
    },
    {
      "cell_type": "code",
      "source": [],
      "metadata": {
        "id": "muLTM2IkTZVB"
      },
      "execution_count": null,
      "outputs": []
    }
  ]
}