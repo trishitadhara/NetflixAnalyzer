{
  "nbformat": 4,
  "nbformat_minor": 0,
  "metadata": {
    "colab": {
      "provenance": []
    },
    "kernelspec": {
      "name": "python3",
      "display_name": "Python 3"
    },
    "language_info": {
      "name": "python"
    }
  },
  "cells": [
    {
      "cell_type": "code",
      "execution_count": null,
      "metadata": {
        "colab": {
          "base_uri": "https://localhost:8080/"
        },
        "id": "DjXv4vVFyxcc",
        "outputId": "5ad3ebe8-e8bd-4e5c-e6f0-f4bb496a7c4a"
      },
      "outputs": [
        {
          "output_type": "stream",
          "name": "stdout",
          "text": [
            "Archive:  /content/netflix_titles.csv.zip\n",
            "  inflating: netflix_titles.csv      \n"
          ]
        }
      ],
      "source": [
        "!unzip /content/netflix_titles.csv.zip"
      ]
    },
    {
      "cell_type": "code",
      "source": [
        "import pandas as pd\n",
        "from sklearn.model_selection import train_test_split\n",
        "from sklearn.feature_extraction.text import TfidfVectorizer\n",
        "from sklearn.naive_bayes import MultinomialNB\n",
        "from sklearn.metrics import accuracy_score, classification_report\n",
        "\n",
        "\n",
        "df = pd.read_csv('/content/netflix_titles.csv')\n",
        "df['rating'] = df['rating'].replace({\n",
        "                'PG-13': 'Teens',\n",
        "                'TV-MA': 'Adults',\n",
        "                'PG': 'Kids',\n",
        "                'TV-14': 'Teens',\n",
        "                'TV-PG': 'Kids',\n",
        "                'TV-Y': 'Kids',\n",
        "                'TV-Y7': 'Kids',\n",
        "                'R': 'Adults',\n",
        "                'TV-G': 'Kids',\n",
        "                'G': 'Kids',\n",
        "                'NC-17': 'Adults',\n",
        "                'NR': 'Adults',\n",
        "                'UR' : 'Adults',\n",
        "                'TV-Y7-FV': 'Kids'\n",
        "\n",
        "})\n",
        "df.dropna(subset=['director', 'cast', 'title','rating'], inplace=True)\n",
        "allowed_ratings = ['Adults', 'Kids', 'Teens']\n",
        "df = df[df['rating'].isin(allowed_ratings)]\n",
        "\n",
        "# Preprocess the data\n",
        "df['text_features'] = df['title'] + ' ' + df['cast'] + ' ' + df['listed_in']+ ' ' + df['director']\n",
        "\n",
        "# Split the data into training and testing sets\n",
        "X_train, X_test, y_train, y_test = train_test_split(df['text_features'], df['rating'], test_size=0.2, random_state=42)\n",
        "\n",
        "# Vectorize the text features\n",
        "vectorizer = TfidfVectorizer()\n",
        "X_train_vec = vectorizer.fit_transform(X_train)\n",
        "X_test_vec = vectorizer.transform(X_test)\n",
        "\n",
        "# Train a classifier (Naive Bayes in this example)\n",
        "classifier = MultinomialNB()\n",
        "classifier.fit(X_train_vec, y_train)\n",
        "\n",
        "# Make predictions on the test set\n",
        "predictions = classifier.predict(X_test_vec)\n",
        "\n",
        "# Evaluate the model\n",
        "accuracy = accuracy_score(y_test, predictions)\n",
        "print(f\"Accuracy: {accuracy:.2f}\")\n",
        "\n",
        "# Display classification report\n",
        "print(classification_report(y_test, predictions))\n"
      ],
      "metadata": {
        "colab": {
          "base_uri": "https://localhost:8080/"
        },
        "id": "o3hhHHZgzKtS",
        "outputId": "486db05a-dc7a-4951-e931-849e129b9eeb"
      },
      "execution_count": null,
      "outputs": [
        {
          "output_type": "stream",
          "name": "stdout",
          "text": [
            "Accuracy: 0.59\n",
            "              precision    recall  f1-score   support\n",
            "\n",
            "      Adults       0.57      0.89      0.69       544\n",
            "        Kids       1.00      0.16      0.28       228\n",
            "       Teens       0.60      0.40      0.48       368\n",
            "\n",
            "    accuracy                           0.59      1140\n",
            "   macro avg       0.72      0.49      0.48      1140\n",
            "weighted avg       0.66      0.59      0.54      1140\n",
            "\n"
          ]
        }
      ]
    },
    {
      "cell_type": "code",
      "source": [
        "from sklearn.linear_model import LogisticRegression\n",
        "logreg_model = LogisticRegression(max_iter=1000)\n",
        "logreg_model.fit(X_train_vec, y_train)\n",
        "\n",
        "# Make predictions on the test set\n",
        "predictions = logreg_model.predict(X_test_vec)\n",
        "\n",
        "# Evaluate the model\n",
        "accuracy = accuracy_score(y_test, predictions)\n",
        "print(f\"Accuracy: {accuracy:.2f}\")\n",
        "\n",
        "# Display classification report\n",
        "print(classification_report(y_test, predictions))"
      ],
      "metadata": {
        "colab": {
          "base_uri": "https://localhost:8080/"
        },
        "id": "_RZOAVMZ1q0j",
        "outputId": "0acbda1c-ab2e-4e04-fe53-3084e2fec1b3"
      },
      "execution_count": null,
      "outputs": [
        {
          "output_type": "stream",
          "name": "stdout",
          "text": [
            "Accuracy: 0.68\n",
            "              precision    recall  f1-score   support\n",
            "\n",
            "      Adults       0.67      0.86      0.75       544\n",
            "        Kids       0.92      0.54      0.68       228\n",
            "       Teens       0.62      0.51      0.56       368\n",
            "\n",
            "    accuracy                           0.68      1140\n",
            "   macro avg       0.73      0.64      0.66      1140\n",
            "weighted avg       0.70      0.68      0.67      1140\n",
            "\n"
          ]
        }
      ]
    },
    {
      "cell_type": "code",
      "source": [
        "X_train, X_test, y_train, y_test = train_test_split(df['text_features'], df['type'], test_size=0.2, random_state=42)\n",
        "\n",
        "# Vectorize the text features\n",
        "vectorizer = TfidfVectorizer()\n",
        "X_train_vec = vectorizer.fit_transform(X_train)\n",
        "X_test_vec = vectorizer.transform(X_test)\n",
        "\n",
        "# Train a classifier (Naive Bayes in this example)\n",
        "classifier = MultinomialNB()\n",
        "classifier.fit(X_train_vec, y_train)\n",
        "\n",
        "# Make predictions on the test set\n",
        "predictions = classifier.predict(X_test_vec)\n",
        "\n",
        "# Evaluate the model\n",
        "accuracy = accuracy_score(y_test, predictions)\n",
        "print(f\"Accuracy: {accuracy:.2f}\")\n",
        "\n",
        "# Display classification report\n",
        "print(classification_report(y_test, predictions))"
      ],
      "metadata": {
        "colab": {
          "base_uri": "https://localhost:8080/"
        },
        "id": "JibB5S045A98",
        "outputId": "f0d619a6-dced-4a33-cd77-8c927049a46b"
      },
      "execution_count": null,
      "outputs": [
        {
          "output_type": "stream",
          "name": "stdout",
          "text": [
            "Accuracy: 0.97\n",
            "              precision    recall  f1-score   support\n",
            "\n",
            "       Movie       0.97      1.00      0.99      1109\n",
            "     TV Show       0.00      0.00      0.00        31\n",
            "\n",
            "    accuracy                           0.97      1140\n",
            "   macro avg       0.49      0.50      0.49      1140\n",
            "weighted avg       0.95      0.97      0.96      1140\n",
            "\n"
          ]
        },
        {
          "output_type": "stream",
          "name": "stderr",
          "text": [
            "/usr/local/lib/python3.10/dist-packages/sklearn/metrics/_classification.py:1344: UndefinedMetricWarning: Precision and F-score are ill-defined and being set to 0.0 in labels with no predicted samples. Use `zero_division` parameter to control this behavior.\n",
            "  _warn_prf(average, modifier, msg_start, len(result))\n",
            "/usr/local/lib/python3.10/dist-packages/sklearn/metrics/_classification.py:1344: UndefinedMetricWarning: Precision and F-score are ill-defined and being set to 0.0 in labels with no predicted samples. Use `zero_division` parameter to control this behavior.\n",
            "  _warn_prf(average, modifier, msg_start, len(result))\n",
            "/usr/local/lib/python3.10/dist-packages/sklearn/metrics/_classification.py:1344: UndefinedMetricWarning: Precision and F-score are ill-defined and being set to 0.0 in labels with no predicted samples. Use `zero_division` parameter to control this behavior.\n",
            "  _warn_prf(average, modifier, msg_start, len(result))\n"
          ]
        }
      ]
    },
    {
      "cell_type": "code",
      "source": [
        "from sklearn.linear_model import LogisticRegression\n",
        "logreg_model = LogisticRegression(max_iter=1000)\n",
        "logreg_model.fit(X_train_vec, y_train)\n",
        "\n",
        "# Make predictions on the test set\n",
        "predictions = logreg_model.predict(X_test_vec)\n",
        "\n",
        "# Evaluate the model\n",
        "accuracy = accuracy_score(y_test, predictions)\n",
        "print(f\"Accuracy: {accuracy:.2f}\")\n",
        "\n",
        "# Display classification report\n",
        "print(classification_report(y_test, predictions))"
      ],
      "metadata": {
        "colab": {
          "base_uri": "https://localhost:8080/"
        },
        "id": "kgMOxATd5ZFf",
        "outputId": "cae8bdec-7a54-4cf0-dca0-7d95720723cb"
      },
      "execution_count": null,
      "outputs": [
        {
          "output_type": "stream",
          "name": "stdout",
          "text": [
            "Accuracy: 0.99\n",
            "              precision    recall  f1-score   support\n",
            "\n",
            "       Movie       0.99      1.00      1.00      1109\n",
            "     TV Show       1.00      0.71      0.83        31\n",
            "\n",
            "    accuracy                           0.99      1140\n",
            "   macro avg       1.00      0.85      0.91      1140\n",
            "weighted avg       0.99      0.99      0.99      1140\n",
            "\n"
          ]
        }
      ]
    },
    {
      "cell_type": "code",
      "source": [],
      "metadata": {
        "id": "0-ZDdXxG5tt_"
      },
      "execution_count": null,
      "outputs": []
    }
  ]
}